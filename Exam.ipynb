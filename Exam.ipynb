{
  "metadata": {
    "language_info": {
      "codemirror_mode": {
        "name": "python",
        "version": 3
      },
      "file_extension": ".py",
      "mimetype": "text/x-python",
      "name": "python",
      "nbconvert_exporter": "python",
      "pygments_lexer": "ipython3",
      "version": "3.8"
    },
    "kernelspec": {
      "name": "python",
      "display_name": "Pyolite",
      "language": "python"
    }
  },
  "nbformat_minor": 4,
  "nbformat": 4,
  "cells": [
    {
      "cell_type": "markdown",
      "source": "# My Jupytor Notebook On Skills Network",
      "metadata": {}
    },
    {
      "cell_type": "markdown",
      "source": "**Wakiro Barbara**",
      "metadata": {}
    },
    {
      "cell_type": "markdown",
      "source": "Data Scientist",
      "metadata": {}
    },
    {
      "cell_type": "markdown",
      "source": "*I'm interested in Data Science because i love making useful meanings of the data we have. For example, i would like to improve the education sector of my country in the near future.*",
      "metadata": {}
    },
    {
      "cell_type": "markdown",
      "source": "### My code will print(\"I Love Data Science!\")\n",
      "metadata": {}
    },
    {
      "cell_type": "code",
      "source": "print(\" I Love Data Science!\")",
      "metadata": {
        "trusted": true
      },
      "execution_count": 1,
      "outputs": [
        {
          "name": "stdout",
          "text": " I Love Data Science!\n",
          "output_type": "stream"
        }
      ]
    },
    {
      "cell_type": "markdown",
      "source": "* January \n* Febrauray\n* March\n* April\n\n1. January\n2. Febraury\n3. March\n4. April\n\n|Day  |Month  |Year  |\n|------|-------|-------|\n|01|01|1991|\n|02|02|1992|\n|03|03|1993|\n",
      "metadata": {}
    },
    {
      "cell_type": "code",
      "source": "",
      "metadata": {},
      "execution_count": null,
      "outputs": []
    }
  ]
}